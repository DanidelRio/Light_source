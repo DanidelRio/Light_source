{
 "cells": [
  {
   "cell_type": "code",
   "execution_count": 1,
   "id": "1a845aa2",
   "metadata": {},
   "outputs": [],
   "source": [
    "import numpy as np\n",
    "import matplotlib.pyplot as plt"
   ]
  },
  {
   "cell_type": "markdown",
   "id": "eb0d1881",
   "metadata": {},
   "source": [
    "Let $d = |\\vec(r)| = \\sqrt{(x-x_0)^2 + (y-y_0)^2 + (z-z_0^2)}$\n",
    "$$I(r) = \\frac{(z-z_0)}{d} \\exp^{-\\mu d}$$"
   ]
  },
  {
   "cell_type": "code",
   "execution_count": 10,
   "id": "e28f0641",
   "metadata": {},
   "outputs": [],
   "source": [
    "def one_light_one_point(mu, x, y, z, x0, y0, z0=0):\n",
    "    d = np.sqrt((x-x0)**2 + (y-y0)**2 + (z-z0)**2)\n",
    "    return np.exp(-mu*z)\n",
    "#     return np.exp(-mu*d)\n",
    "#     return (z-z0)/d * np.exp(-mu*d) # The angle dependence of an LED is included in the first term here!\n",
    "# The issue might be the length defined here. Why are you subtracting z0.\n",
    "# I do not think so, z0 has always been set to 0\n",
    "\n",
    "\n",
    "def vectorized_one_light(mu, xx, yy, z, x0, y0, z0=0): # Be careful you might have transposed space.\n",
    "    # xx and yy are variables, but the depth is fixed\n",
    "    \n",
    "    if np.shape(xx) != np.shape(yy):\n",
    "        print(\"Different length arrays.\")\n",
    "    \n",
    "    iteration_length_1, iteration_length_2 = np.shape(xx)\n",
    "    matrix = np.array([np.zeros(iteration_length_1) for row in range(iteration_length_2)])\n",
    "        \n",
    "    for i in range(iteration_length_1):\n",
    "        for j in range(iteration_length_2):\n",
    "            matrix[i][j] = one_light_one_point(mu, xx[i][j], yy[i][j], z, x0, y0, z0)\n",
    "            \n",
    "    return matrix\n",
    "\n",
    "\n",
    "def three_D_one_light(mu, xx, yy, zz, x0, y0, z0=0):\n",
    "    #Create a function. For each infinitesimal volumetric input, there is an expected light intensity output.\n",
    "    # xx, yy and zz are 3D-arrays, where each volumetric point is defined by a single index.\n",
    "    \n",
    "    if np.shape(xx) != np.shape(yy):\n",
    "        print(\"Different length arrays.\")\n",
    "    elif np.shape(xx) != np.shape(zz):\n",
    "        print(\"Different length arrays.\")\n",
    "    \n",
    "    it_length_1, it_length_2, it_length_3 = np.shape(xx)\n",
    "    matrix = np.array([[np.zeros(it_length_1) for row in range(it_length_2)] for width in range(it_length_3)])\n",
    "    \n",
    "    for i in range(it_length_1):\n",
    "        for j in range(it_length_2):\n",
    "            for k in range(it_length_3):\n",
    "                \n",
    "                matrix[i][j][k] = one_light_one_point(mu, xx[i][j][k], yy[i][j][k], zz[i][j][k], x0, y0, z0)\n",
    "            \n",
    "    return matrix"
   ]
  },
  {
   "cell_type": "code",
   "execution_count": 11,
   "id": "e891c846",
   "metadata": {
    "scrolled": true
   },
   "outputs": [],
   "source": [
    "mu = 5\n",
    "x0, y0, z0 = 0, 0, 0\n",
    "pixels_n = 101\n",
    "\n",
    "x_ = np.linspace(-5, 5, pixels_n)\n",
    "y_ = np.linspace(-5, 5, pixels_n)\n",
    "z_ = np.linspace(0, 5, pixels_n)\n",
    "\n",
    "xx, yy, zz = np.meshgrid(x_, y_, z_, indexing='ij')\n",
    "# https://numpy.org/doc/stable/reference/generated/numpy.meshgrid.html)\n",
    "\n",
    "\n",
    "# one_light_one_point(mu, x, y, z, x0, y0)\n",
    "# matrix = vectorized_one_light(mu, xx, yy, z, x0, y0)\n",
    "matrix = three_D_one_light(mu, xx, yy, zz, x0, y0, z0)                         "
   ]
  },
  {
   "cell_type": "code",
   "execution_count": 12,
   "id": "4a43f38b",
   "metadata": {},
   "outputs": [
    {
     "data": {
      "text/plain": [
       "(101, 101, 101)"
      ]
     },
     "execution_count": 12,
     "metadata": {},
     "output_type": "execute_result"
    }
   ],
   "source": [
    "matrix.shape"
   ]
  },
  {
   "cell_type": "markdown",
   "id": "282e7ca2",
   "metadata": {},
   "source": [
    "# Given a number in the reals, find the 3 projections defined by that plane when fixing one of the three variables in that number and varying the other 2."
   ]
  },
  {
   "cell_type": "code",
   "execution_count": 13,
   "id": "10e519c1",
   "metadata": {},
   "outputs": [],
   "source": [
    "def indices_to_be_found(number, x_, y_, z_):\n",
    "    '''\n",
    "        The number should be in all the domains: x_, y_ and z_\n",
    "    '''\n",
    "    difference_array_x = np.absolute(x_-number)\n",
    "    difference_array_y = np.absolute(y_-number)\n",
    "    difference_array_z = np.absolute(z_-number)\n",
    "    \n",
    "    index_x = difference_array_x.argmin()\n",
    "    index_y = difference_array_y.argmin()\n",
    "    index_z = difference_array_z.argmin()\n",
    "    \n",
    "    return index_x, index_y, index_z"
   ]
  },
  {
   "cell_type": "markdown",
   "id": "13b4a465",
   "metadata": {},
   "source": [
    "In the next cell, change the value of `number` to a value between [0,5] to visualize different volumetric projections in 2D planes."
   ]
  },
  {
   "cell_type": "code",
   "execution_count": 17,
   "id": "86ac7c9d",
   "metadata": {},
   "outputs": [
    {
     "data": {
      "image/png": "[encoded data removed]",
      "text/plain": [
       "<Figure size 432x432 with 1 Axes>"
      ]
     },
     "metadata": {
      "needs_background": "light"
     },
     "output_type": "display_data"
    },
    {
     "data": {
      "image/png": "[encoded data removed]",
      "text/plain": [
       "<Figure size 432x432 with 1 Axes>"
      ]
     },
     "metadata": {
      "needs_background": "light"
     },
     "output_type": "display_data"
    },
    {
     "data": {
      "image/png": "[encoded data removed]",
      "text/plain": [
       "<Figure size 432x432 with 1 Axes>"
      ]
     },
     "metadata": {
      "needs_background": "light"
     },
     "output_type": "display_data"
    }
   ],
   "source": [
    "# Visualizing different volumetric projections\n",
    "number = 0\n",
    "index_x, index_y, index_z = indices_to_be_found(number, x_, y_, z_)\n",
    "\n",
    "# Projection in the Y-Z plane, expected figure is the traingle one with decaying intensities along the medium.\n",
    "fig, ax = plt.subplots(figsize=(6,6))\n",
    "ax.imshow(matrix[index_x,:,:], origin=\"lower\", interpolation='none', extent=[-5,5, 0, 5], aspect=\"auto\")\n",
    "plt.xlabel(\"Y\")\n",
    "plt.ylabel(\"Z\")\n",
    "plt.title(\"x=\"+str(x_[index_x]))\n",
    "plt.show()\n",
    "\n",
    "# Projection in the X-Y plane, expected figure is the circle with exponentially decaying intensities.\n",
    "fig, ax = plt.subplots(figsize=(6,6))\n",
    "ax.imshow(matrix[:,:,index_z], origin=\"lower\", interpolation='none', extent=[-5,5, -5, 5], aspect=\"auto\")\n",
    "plt.xlabel(\"X\")\n",
    "plt.ylabel(\"Y\")\n",
    "plt.title(\"z=\"+str(z_[index_z]))\n",
    "plt.show()\n",
    "\n",
    "# Projection in the X-Z plane, expected figure is the traingle one with exponentially decaying intensities\n",
    "fig, ax = plt.subplots(figsize=(6,6))\n",
    "ax.imshow(matrix[:,index_y,:], origin=\"lower\", interpolation='none', extent=[-5,5, 0, 5], aspect=\"auto\")\n",
    "plt.xlabel(\"X\")\n",
    "plt.ylabel(\"Z\")\n",
    "plt.title(\"y=\"+str(y_[index_y]))\n",
    "plt.show()"
   ]
  },
  {
   "cell_type": "markdown",
   "id": "a58d4a6e",
   "metadata": {},
   "source": [
    "# Why is the light source not centered in zero? There should be a mistake somewhere. The visualizations are not what I would expect them to be, even when using a simple decaying exponential which only depends on the variable `z`. Why?\n",
    "\n",
    "You were retrieving the information from this matrices in a way where you did not obtain the info you wanted. See this for reference: https://www.geeksforgeeks.org/how-to-retrieve-an-entire-row-or-column-of-an-array-in-python/"
   ]
  },
  {
   "cell_type": "code",
   "execution_count": 7,
   "id": "7a591c88",
   "metadata": {
    "scrolled": false
   },
   "outputs": [
    {
     "data": {
      "image/png": "[encoded data removed]",
      "text/plain": [
       "<Figure size 432x432 with 1 Axes>"
      ]
     },
     "metadata": {
      "needs_background": "light"
     },
     "output_type": "display_data"
    }
   ],
   "source": [
    "k = 0\n",
    "\n",
    "fig, ax = plt.subplots(figsize=(6,6))\n",
    "ax.imshow(matrix[:][:][k], origin=\"lower\", interpolation='none', extent=[-5,5, -5, 5], aspect=\"auto\")\n",
    "plt.xlabel(\"X\")\n",
    "plt.ylabel(\"Y\")\n",
    "plt.title(\"z=\"+str(k))\n",
    "plt.show()"
   ]
  },
  {
   "cell_type": "markdown",
   "id": "7d39089c",
   "metadata": {},
   "source": [
    "Note how in any horizontal line in the previous graph, there is an exponential decay as the variable is. Why is it not centered in [0,0]?"
   ]
  },
  {
   "cell_type": "code",
   "execution_count": 8,
   "id": "65cc7020",
   "metadata": {},
   "outputs": [
    {
     "data": {
      "image/png": "[encoded data removed]",
      "text/plain": [
       "<Figure size 432x432 with 1 Axes>"
      ]
     },
     "metadata": {
      "needs_background": "light"
     },
     "output_type": "display_data"
    }
   ],
   "source": [
    "where = 0\n",
    "\n",
    "fig, ax = plt.subplots(figsize=(6,6))\n",
    "ax.imshow(matrix[where][:][:], origin=\"lower\", interpolation='none', extent=[-5,5, -5, 5], aspect=\"auto\")\n",
    "plt.xlabel(\"Y\")\n",
    "plt.ylabel(\"Z\")\n",
    "plt.title(\"x=\"+str(where))\n",
    "plt.show()"
   ]
  },
  {
   "cell_type": "code",
   "execution_count": 9,
   "id": "b07c92fc",
   "metadata": {},
   "outputs": [
    {
     "data": {
      "image/png": "[encoded data removed]",
      "text/plain": [
       "<Figure size 432x288 with 1 Axes>"
      ]
     },
     "metadata": {
      "needs_background": "light"
     },
     "output_type": "display_data"
    }
   ],
   "source": [
    "k = 90\n",
    "plt.imshow(matrix[:][:][k], origin=\"lower\")\n",
    "plt.title(\"z=\"+str(k))\n",
    "plt.show()"
   ]
  },
  {
   "cell_type": "code",
   "execution_count": null,
   "id": "3732d767",
   "metadata": {},
   "outputs": [],
   "source": []
  }
 ],
 "metadata": {
  "kernelspec": {
   "display_name": "Python 3 (ipykernel)",
   "language": "python",
   "name": "python3"
  },
  "language_info": {
   "codemirror_mode": {
    "name": "ipython",
    "version": 3
   },
   "file_extension": ".py",
   "mimetype": "text/x-python",
   "name": "python",
   "nbconvert_exporter": "python",
   "pygments_lexer": "ipython3",
   "version": "3.9.12"
  }
 },
 "nbformat": 4,
 "nbformat_minor": 5
}
